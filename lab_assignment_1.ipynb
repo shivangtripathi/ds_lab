{
  "nbformat": 4,
  "nbformat_minor": 0,
  "metadata": {
    "colab": {
      "name": "DS1.ipynb",
      "provenance": [],
      "collapsed_sections": []
    },
    "kernelspec": {
      "name": "python3",
      "display_name": "Python 3"
    },
    "language_info": {
      "name": "python"
    }
  },
  "cells": [
    {
      "cell_type": "code",
      "metadata": {
        "colab": {
          "base_uri": "https://localhost:8080/"
        },
        "id": "8qI78q_jX_Yh",
        "outputId": "ff90ec15-eae4-4f8b-e242-d3477cc6366f"
      },
      "source": [
        "#Question 1\n",
        "l=list()\n",
        "print(\"\"\"Enter value:\n",
        "            1) to insert elements\n",
        "            2) to delete elements\n",
        "            3) quit\\n\"\"\")\n",
        "while(1):\n",
        "  choice=int(input())\n",
        "  if choice == 1:\n",
        "    n=int(input(\"enter number to insert \"))\n",
        "    l.append(n)\n",
        "    print(l)\n",
        "  elif choice == 2 :\n",
        "    if(len(l)==0):\n",
        "      print(\"There is nothing in the list\")\n",
        "    else:\n",
        "      print(\"\"\"Enter value:\n",
        "              1) delete with value\n",
        "              2) delete with position\n",
        "              3) slice\\n\"\"\")\n",
        "      c1=int(input())\n",
        "\n",
        "      if c1==1:\n",
        "        n=int(input(\"enter value to delete \"))\n",
        "        if n in l:\n",
        "          l.remove(n)\n",
        "        else:\n",
        "          print(\"Value not in list\")\n",
        "        print(l)\n",
        "      elif c1 == 2:\n",
        "        n=int(input(\"enter index to delete \"))\n",
        "        if n<len(l):\n",
        "          del l[n]\n",
        "        else:\n",
        "          print(\"index doesnt exist\")\n",
        "        print(l)\n",
        "      elif c1 == 3:\n",
        "        n=int(input(\"enter first index \"))\n",
        "        o=int(input(\"enter second index \"))\n",
        "        if n<len(l) or o<len(l):\n",
        "          for i in range1(n,o):\n",
        "            del l[n]\n",
        "        else:\n",
        "          print(\"index doesnt exist\")\n",
        "        print(l)\n",
        "      else:\n",
        "        print(\"wrong input\\n\")\n",
        "  elif choice==3:\n",
        "    break\n",
        "  else:\n",
        "    print('wrong input')\n",
        "\n",
        "\n"
      ],
      "execution_count": null,
      "outputs": [
        {
          "output_type": "stream",
          "text": [
            "Enter value:\n",
            "            1) to insert elements\n",
            "            2) to delete elements\n",
            "            3) quit\n",
            "\n",
            "1\n",
            "enter number to insert 452\n",
            "[452]\n",
            "Enter value:\n",
            "            1) to insert elements\n",
            "            2) to delete elements\n",
            "            3) quit\n",
            "\n",
            "2\n",
            "Enter value:\n",
            "              1) delete with value\n",
            "              2) delete with position\n",
            "              3) slice\n",
            "\n",
            "3\n",
            "enter first index 69\n",
            "enter second index 58\n",
            "index doesnt exist\n",
            "[452]\n",
            "Enter value:\n",
            "            1) to insert elements\n",
            "            2) to delete elements\n",
            "            3) quit\n",
            "\n",
            "3\n"
          ],
          "name": "stdout"
        }
      ]
    },
    {
      "cell_type": "code",
      "metadata": {
        "colab": {
          "base_uri": "https://localhost:8080/"
        },
        "id": "_DZpFetYgQMK",
        "outputId": "c9e0c675-9207-4141-c702-f5bf10c5e959"
      },
      "source": [
        "#Question 2\n",
        "l=list()\n",
        "print(\"enter number/s to be appended to list (comma is differentiator)\")\n",
        "m=input()\n",
        "r=m.split(\",\")\n",
        "for i in r:\n",
        "  try:\n",
        "    k=int(i)\n",
        "  except:\n",
        "    print(\"Error! Please check your input\")\n",
        "    break\n",
        "  l.append(k)\n",
        "print(l)"
      ],
      "execution_count": null,
      "outputs": [
        {
          "output_type": "stream",
          "text": [
            "enter number/s to be appended to list (comma is differentiator)\n",
            "ffafa,45,sfsf     ,sfsfsf,569\n",
            "Error! Please scheck your input\n",
            "[]\n"
          ],
          "name": "stdout"
        }
      ]
    },
    {
      "cell_type": "code",
      "metadata": {
        "colab": {
          "base_uri": "https://localhost:8080/"
        },
        "id": "mv4sD_AAJtFf",
        "outputId": "5fdc1fed-a006-4b01-8998-d12e0ee50e90"
      },
      "source": [
        "#Question 3\n",
        "m=input(\"Enter a tuple \")\n",
        "r=m.split(\",\")\n",
        "t=tuple(r)\n",
        "t1=t[::-3]\n",
        "t2=t[2:8:2]    \n",
        "print(\"original tuple: \",t)\n",
        "print(\"t1: \",t1)\n",
        "print(\"t2: \",t2)\n",
        "\n"
      ],
      "execution_count": null,
      "outputs": [
        {
          "output_type": "stream",
          "text": [
            "Enter a tuple fsfsfsf,4ss,45\n",
            "original tuple:  ('fsfsfsf', '4ss', '45')\n",
            "t1:  ('45',)\n",
            "t2:  ('45',)\n"
          ],
          "name": "stdout"
        }
      ]
    },
    {
      "cell_type": "code",
      "metadata": {
        "colab": {
          "base_uri": "https://localhost:8080/"
        },
        "id": "KmUKRPNeMHVH",
        "outputId": "7b59c225-4d0b-4bad-8932-521ad0e1f18b"
      },
      "source": [
        "#Question 4\n",
        "n=4\n",
        "l=list()\n",
        "l1=list()\n",
        "l2=list()\n",
        "try:\n",
        "  for i in range(0,n):\n",
        "    print(\"Enter email id of student no. \",i+1)\n",
        "    m=input()\n",
        "    l.append(m)\n",
        "    r=m.split(\"@\")\n",
        "    if len(r)==1:\n",
        "      print(\"Email must have at least 1 @\")\n",
        "    l1.append(r[0])\n",
        "    l2.append(r[1])\n",
        "except:\n",
        "  print(\"Error! check ur input\")\n",
        "t=tuple(l)\n",
        "t1=tuple(l1)\n",
        "t2=tuple(l2)\n",
        "print(\"Email ids: \",t,\"\\nUsernames: \",t1,\"\\nDomains: \",t2)"
      ],
      "execution_count": null,
      "outputs": [
        {
          "output_type": "stream",
          "text": [
            "Enter email id of student no.  1\n",
            "aknakfna@aknakn@ajkn\n",
            "Enter email id of student no.  2\n",
            "sad@ua\n",
            "Enter email id of student no.  3\n",
            "kajjf@dsd\n",
            "Enter email id of student no.  4\n",
            "jad@\n",
            "Email ids:  ('aknakfna@aknakn@ajkn', 'sad@ua', 'kajjf@dsd', 'jad@') \n",
            "Usernames:  ('aknakfna', 'sad', 'kajjf', 'jad') \n",
            "Domains:  ('aknakn', 'ua', 'dsd', '')\n"
          ],
          "name": "stdout"
        }
      ]
    },
    {
      "cell_type": "code",
      "metadata": {
        "colab": {
          "base_uri": "https://localhost:8080/"
        },
        "id": "rte2VIYFOu5s",
        "outputId": "2622aa77-db2a-4153-911e-409d9dda59f5"
      },
      "source": [
        "#Question 5\n",
        "d=dict()\n",
        "i = int(input(\"Enter no of players: \"))\n",
        "for j in range(0,i):\n",
        "  print(\"Enter name of player\",j+1,\": \")\n",
        "  m=input()\n",
        "  print(\"Enter no of medals won by\",m,\": \")\n",
        "  k=input()\n",
        "  d[m]=int(k)\n",
        "print(d)"
      ],
      "execution_count": null,
      "outputs": [
        {
          "output_type": "stream",
          "text": [
            "Enter no of players: 3\n",
            "Enter name of player 1 : \n",
            "Dhoni\n",
            "Enter no of medals won by Dhoni : \n",
            "45\n",
            "Enter name of player 2 : \n",
            "Virat\n",
            "Enter no of medals won by Virat : \n",
            "67\n",
            "Enter name of player 3 : \n",
            "Neeraj\n",
            "Enter no of medals won by Neeraj : \n",
            "48\n",
            "{'Dhoni': 45, 'Virat': 67, 'Neeraj': 48}\n"
          ],
          "name": "stdout"
        }
      ]
    },
    {
      "cell_type": "code",
      "metadata": {
        "colab": {
          "base_uri": "https://localhost:8080/"
        },
        "id": "XXrsJJnZQLhR",
        "outputId": "f3f7d0cd-b60a-4f79-f31c-fead0849a5b8"
      },
      "source": [
        "#Question 6\n",
        "dict1 = {0:'Zero',1:'One',2:'Two',3:'Three'}\n",
        "m=input(\"Enter value to check: \")\n",
        "flag=1\n",
        "for key,i in dict1.items():\n",
        "  if i==m:\n",
        "    print(m,\" found, corresponding key: \",key)\n",
        "    flag=0\n",
        "if flag:\n",
        "  print(\"Not found\")"
      ],
      "execution_count": null,
      "outputs": [
        {
          "output_type": "stream",
          "text": [
            "Enter value to check: two\n",
            "Not found\n"
          ],
          "name": "stdout"
        }
      ]
    },
    {
      "cell_type": "code",
      "metadata": {
        "id": "G28IjWj_U5Ss",
        "colab": {
          "base_uri": "https://localhost:8080/"
        },
        "outputId": "04dd0336-4b93-4062-9115-3586a7a2b695"
      },
      "source": [
        "#Question 7\n",
        "n=2\n",
        "d=dict()\n",
        "for i in range(0,n):\n",
        "  l=list()\n",
        "  print(\"Enter roll no of student \",i+1)\n",
        "  m=int(input())\n",
        "  print(\"Enter name and marks saskdof student \",i+1)\n",
        "  a=input()\n",
        "  b=int(input())\n",
        "  l.append(a)\n",
        "  l.append(b)\n",
        "  d[m]=l\n",
        "for val in d.values():\n",
        "  if val[1]>75:\n",
        "    print(val[0],\"has more than 75 marks\")"
      ],
      "execution_count": null,
      "outputs": [
        {
          "output_type": "stream",
          "text": [
            "Enter roll no of student  1\n",
            "1\n",
            "Enter name and marks saskdof student  1\n",
            "sam\n",
            "89\n",
            "Enter roll no of student  2\n",
            "2\n",
            "Enter name and marks saskdof student  2\n",
            "mark\n",
            "45\n",
            "sam  has more than 75 marks\n"
          ],
          "name": "stdout"
        }
      ]
    },
    {
      "cell_type": "code",
      "metadata": {
        "colab": {
          "base_uri": "https://localhost:8080/"
        },
        "id": "Qb5C524XjbYC",
        "outputId": "1598ea6f-93dd-49d1-dd59-371ef87635cd"
      },
      "source": [
        "#Question 8\n",
        "s=input(\"enter a sentence \")\n",
        "d=dict()\n",
        "for i in s:\n",
        "  if i.isalnum():\n",
        "    d[i]=0\n",
        "for i in s:\n",
        "  if i.isalnum():\n",
        "    d[i]=d[i]+1\n",
        "print(d)\n"
      ],
      "execution_count": null,
      "outputs": [
        {
          "output_type": "stream",
          "text": [
            "enter a sentence hello ghow ar u uwu\n",
            "{'h': 2, 'e': 1, 'l': 2, 'o': 2, 'g': 1, 'w': 2, 'a': 1, 'r': 1, 'u': 3}\n"
          ],
          "name": "stdout"
        }
      ]
    },
    {
      "cell_type": "code",
      "metadata": {
        "colab": {
          "base_uri": "https://localhost:8080/"
        },
        "id": "Ttn0D-fJdIa_",
        "outputId": "957d900a-03a4-4399-86d8-1d8f97fcee5a"
      },
      "source": [
        "#Question 9\n",
        "s=input(\"Enter a string \")\n",
        "vowels='aeiou'\n",
        "max=\"\"\n",
        "maxlen=0\n",
        "temp=\"\"\n",
        "for i in range(0,len(s)):\n",
        "  for j in range(i+1,len(s)+1):\n",
        "    temp=s[i:j]\n",
        "    for k in temp:\n",
        "      if k in vowels:\n",
        "        temp=\"\"\n",
        "    if len(temp)>maxlen:\n",
        "      max=temp\n",
        "      maxlen=len(temp)\n",
        "\n",
        "print(max)"
      ],
      "execution_count": null,
      "outputs": [
        {
          "output_type": "stream",
          "text": [
            "Enter a string akshatsdbsm\n",
            "tsdbsm\n"
          ],
          "name": "stdout"
        }
      ]
    },
    {
      "cell_type": "code",
      "metadata": {
        "colab": {
          "base_uri": "https://localhost:8080/"
        },
        "id": "_B9y2G0cglR_",
        "outputId": "52aa6ae4-ae5a-403d-e65e-78e99d432151"
      },
      "source": [
        "#Question 10\n",
        "s=input(\"Enter a sentence \")\n",
        "up=0\n",
        "alp=0\n",
        "sym=0\n",
        "dig=0\n",
        "low=0\n",
        "for i in s:\n",
        "  if i.isupper():\n",
        "    up+=1\n",
        "  if i.islower():\n",
        "    low+=1\n",
        "  if i.isalpha():\n",
        "    alp+=1\n",
        "  if i.isdigit():\n",
        "    dig+=1\n",
        "  if ord(i) in range(33,48) or ord(i) in range(58,65) or ord(i) in range(91,97) or ord(i) in range(123,127):\n",
        "    sym+=1\n",
        "print(\"Number of upper case letters :\",up,\"\\nNumber of alphabets:\",alp,\"\\nNumber of Symbols:\",sym,\"\\nNumber of digits:\",dig,\"\\nNumber of lower case letters:\",low)"
      ],
      "execution_count": null,
      "outputs": [
        {
          "output_type": "stream",
          "text": [
            "Enter a sentence HellosSSS kskj    sksknf 465sdsd5666 @$#&!#*!&#^\n",
            "Number of upper case letters : 4 \n",
            "Number of alphabets: 23 \n",
            "Number of Symbols: 11 \n",
            "Number of digits: 7 \n",
            "Number of lower case letters: 19\n"
          ],
          "name": "stdout"
        }
      ]
    }
  ]
}