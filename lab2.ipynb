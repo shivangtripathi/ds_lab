{
  "nbformat": 4,
  "nbformat_minor": 0,
  "metadata": {
    "colab": {
      "name": "lab2.ipynb",
      "provenance": [],
      "collapsed_sections": [],
      "authorship_tag": "ABX9TyO43klkfg+6hzfgUxhNAW09",
      "include_colab_link": true
    },
    "kernelspec": {
      "name": "python3",
      "display_name": "Python 3"
    },
    "language_info": {
      "name": "python"
    }
  },
  "cells": [
    {
      "cell_type": "markdown",
      "metadata": {
        "id": "view-in-github",
        "colab_type": "text"
      },
      "source": [
        "<a href=\"https://colab.research.google.com/github/shivangtripathi/ds_lab/blob/main/lab2.ipynb\" target=\"_parent\"><img src=\"https://colab.research.google.com/assets/colab-badge.svg\" alt=\"Open In Colab\"/></a>"
      ]
    },
    {
      "cell_type": "markdown",
      "metadata": {
        "id": "9yVR8s3qReYh"
      },
      "source": [
        "**OOPS IN PYTHON**\n"
      ]
    },
    {
      "cell_type": "code",
      "metadata": {
        "id": "LY9wjYmPTU1h"
      },
      "source": [
        "class Employee:\n",
        " pass\n",
        "p1 = Employee()\n",
        "print(p1)"
      ],
      "execution_count": null,
      "outputs": []
    },
    {
      "cell_type": "code",
      "metadata": {
        "colab": {
          "base_uri": "https://localhost:8080/"
        },
        "id": "wKR7l68ZRoOj",
        "outputId": "5e33a00a-8b6a-4dd6-eb92-018ca957c28f"
      },
      "source": [
        "class Dog:\n",
        "  pass\n",
        "a = Dog()\n",
        "b = Dog()\n",
        "print(a!=b)"
      ],
      "execution_count": 3,
      "outputs": [
        {
          "output_type": "stream",
          "text": [
            "True\n"
          ],
          "name": "stdout"
        }
      ]
    },
    {
      "cell_type": "code",
      "metadata": {
        "colab": {
          "base_uri": "https://localhost:8080/"
        },
        "id": "z5YhaTfTR6iQ",
        "outputId": "65bf62e5-8fa1-4fef-a2f9-32219d127275"
      },
      "source": [
        "class Employee:\n",
        "  name = None\n",
        "  age = None\n",
        "p1 = Employee()\n",
        "p2 = Employee()\n",
        "p1.name = \"Saiyam\"\n",
        "p1.age = 16\n",
        "p2.name = p1.name\n",
        "print(\"p1 -> name : \",p1.name)\n",
        "print(\"p1 -> age : \",p1.age)\n",
        "print(\"\\n p2 -> name : \",p2.name)\n",
        "print(\"p2 -> age : \",p2.age)"
      ],
      "execution_count": 11,
      "outputs": [
        {
          "output_type": "stream",
          "text": [
            "p1 -> name :  Saiyam\n",
            "p1 -> age :  16\n",
            "\n",
            " p2 -> name :  Saiyam\n",
            "p2 -> age :  None\n"
          ],
          "name": "stdout"
        }
      ]
    },
    {
      "cell_type": "code",
      "metadata": {
        "colab": {
          "base_uri": "https://localhost:8080/"
        },
        "id": "Hj6e9ZWHTvSK",
        "outputId": "2705b772-1db3-47c9-9c7c-800ec7b42c95"
      },
      "source": [
        "class Employee:\n",
        "  name = None\n",
        "  age = None\n",
        "\n",
        "  def display(self):\n",
        "    print(\"\\nName is : \",self.name)\n",
        "    print(\"Age is : \",self.age)\n",
        "\n",
        "p1 = Employee()\n",
        "p1.name = \"Shivang\"\n",
        "p1.age = 15\n",
        "p1.display()\n",
        "\n",
        "p2 = Employee()\n",
        "p2.name = \"Rahul\"\n",
        "p2.age = 56\n",
        "\n",
        "p2.display()"
      ],
      "execution_count": 13,
      "outputs": [
        {
          "output_type": "stream",
          "text": [
            "\n",
            "Name is :  Shivang\n",
            "Age is :  15\n",
            "\n",
            "Name is :  Rahul\n",
            "Age is :  56\n"
          ],
          "name": "stdout"
        }
      ]
    },
    {
      "cell_type": "code",
      "metadata": {
        "colab": {
          "base_uri": "https://localhost:8080/"
        },
        "id": "cM6L9nRDUi4a",
        "outputId": "ade694ce-e2a6-4d67-8f99-263a8ca25af3"
      },
      "source": [
        "class Math:\n",
        "  a = None\n",
        "  b = None\n",
        "  c = None\n",
        "  def Add(self,x,y):\n",
        "    self.a = x\n",
        "    self.b = y\n",
        "    self.c = self.a+self.b\n",
        "\n",
        "  def show(self):\n",
        "    print(\"Sum of the numbers is \" ,self.c)\n",
        "\n",
        "m1 = Math()\n",
        "m1.Add(4,5)\n",
        "m1.show()"
      ],
      "execution_count": 14,
      "outputs": [
        {
          "output_type": "stream",
          "text": [
            "Sum of the numbers is  9\n"
          ],
          "name": "stdout"
        }
      ]
    },
    {
      "cell_type": "code",
      "metadata": {
        "colab": {
          "base_uri": "https://localhost:8080/"
        },
        "id": "ynL77v23Vt_u",
        "outputId": "81eb4ee1-9276-45f9-86ca-6c6658d74501"
      },
      "source": [
        "class Student:\n",
        "  branch = \"CSE\"\n",
        "  def __init__(self,r):\n",
        "    self.rollNo = r\n",
        "  def setAddress(self,r):\n",
        "    self.address = r\n",
        "  def getAddress(self):\n",
        "    return self.address\n",
        "\n",
        "s1 = Student(45)\n",
        "s1.setAddress(\"Gorakhpur\")\n",
        "print(\"Student Address \",s1.getAddress())"
      ],
      "execution_count": 16,
      "outputs": [
        {
          "output_type": "stream",
          "text": [
            "Student Address  Gorakhpur\n"
          ],
          "name": "stdout"
        }
      ]
    },
    {
      "cell_type": "code",
      "metadata": {
        "colab": {
          "base_uri": "https://localhost:8080/"
        },
        "id": "nLgWo4qRXJie",
        "outputId": "1568ccb2-246f-4766-ecfd-f40c3b7ed980"
      },
      "source": [
        "class Student:\n",
        "  def __init__(self,name=None):\n",
        "    self.name = name\n",
        "  def wishHello(self):\n",
        "    print(\"Hello , my name is \",self.name)\n",
        " \n",
        "s1 = Student()\n",
        "s1.wishHello()\n",
        "\n",
        "s2 = Student(\"Klaus\")\n",
        "s2.wishHello()"
      ],
      "execution_count": 19,
      "outputs": [
        {
          "output_type": "stream",
          "text": [
            "Hello , my name is  None\n",
            "Hello , my name is  Klaus\n"
          ],
          "name": "stdout"
        }
      ]
    },
    {
      "cell_type": "code",
      "metadata": {
        "colab": {
          "base_uri": "https://localhost:8080/",
          "height": 214
        },
        "id": "puEvNDU0Yg-T",
        "outputId": "bb4dbfc2-d129-4404-9c03-834b06491689"
      },
      "source": [
        "class Dog:\n",
        "  def __init__(self,name):\n",
        "    self.name = name\n",
        "    self.age = age\n",
        "a1 = Dog()\n",
        "print('a1 --> ',a1)"
      ],
      "execution_count": 20,
      "outputs": [
        {
          "output_type": "error",
          "ename": "TypeError",
          "evalue": "ignored",
          "traceback": [
            "\u001b[0;31m---------------------------------------------------------------------------\u001b[0m",
            "\u001b[0;31mTypeError\u001b[0m                                 Traceback (most recent call last)",
            "\u001b[0;32m<ipython-input-20-8e4a9a6906f4>\u001b[0m in \u001b[0;36m<module>\u001b[0;34m()\u001b[0m\n\u001b[1;32m      3\u001b[0m     \u001b[0mself\u001b[0m\u001b[0;34m.\u001b[0m\u001b[0mname\u001b[0m \u001b[0;34m=\u001b[0m \u001b[0mname\u001b[0m\u001b[0;34m\u001b[0m\u001b[0;34m\u001b[0m\u001b[0m\n\u001b[1;32m      4\u001b[0m     \u001b[0mself\u001b[0m\u001b[0;34m.\u001b[0m\u001b[0mage\u001b[0m \u001b[0;34m=\u001b[0m \u001b[0mage\u001b[0m\u001b[0;34m\u001b[0m\u001b[0;34m\u001b[0m\u001b[0m\n\u001b[0;32m----> 5\u001b[0;31m \u001b[0ma1\u001b[0m \u001b[0;34m=\u001b[0m \u001b[0mDog\u001b[0m\u001b[0;34m(\u001b[0m\u001b[0;34m)\u001b[0m\u001b[0;34m\u001b[0m\u001b[0;34m\u001b[0m\u001b[0m\n\u001b[0m\u001b[1;32m      6\u001b[0m \u001b[0mprint\u001b[0m\u001b[0;34m(\u001b[0m\u001b[0;34m'a1 --> '\u001b[0m\u001b[0;34m,\u001b[0m\u001b[0ma1\u001b[0m\u001b[0;34m)\u001b[0m\u001b[0;34m\u001b[0m\u001b[0;34m\u001b[0m\u001b[0m\n",
            "\u001b[0;31mTypeError\u001b[0m: __init__() missing 1 required positional argument: 'name'"
          ]
        }
      ]
    },
    {
      "cell_type": "code",
      "metadata": {
        "colab": {
          "base_uri": "https://localhost:8080/"
        },
        "id": "ZU8GtLSrZvFZ",
        "outputId": "6ae952cb-c8ae-476e-e263-6524d7e7c35f"
      },
      "source": [
        "class Dog:\n",
        "  species = \"Desi\"\n",
        "  def __init__(self,name=None,age=None):\n",
        "    self.name = name\n",
        "    self.age = age\n",
        "a1 = Dog()\n",
        "a2 = Dog(\"Tommy\")\n",
        "a3 = Dog(\"Tommy\",2)\n",
        "print('a1 --> ',a1)\n",
        "print('a2 --> ',a2)\n",
        "print('a3 --> ',a3)"
      ],
      "execution_count": 21,
      "outputs": [
        {
          "output_type": "stream",
          "text": [
            "a1 -->  <__main__.Dog object at 0x7f0ddbc081d0>\n",
            "a2 -->  <__main__.Dog object at 0x7f0ddbc08190>\n",
            "a3 -->  <__main__.Dog object at 0x7f0ddbc08a10>\n"
          ],
          "name": "stdout"
        }
      ]
    },
    {
      "cell_type": "code",
      "metadata": {
        "colab": {
          "base_uri": "https://localhost:8080/"
        },
        "id": "TlJU_7UqaCYZ",
        "outputId": "350627e3-5fda-4610-ec40-e2213ba41792"
      },
      "source": [
        "class ATM:\n",
        "  session = 0\n",
        "  def __init__(self,Amount):\n",
        "    ATM.session+=1\n",
        "    print(\"\\nCurrent Session Count : \",self.session)\n",
        "    if self.session>1:\n",
        "      print(\"Error only single instance is allowed\")\n",
        "    else:\n",
        "      print(\"Successful Withdraw\")\n",
        "    \n",
        "\n",
        "o1 = ATM(500)\n",
        "o2 = ATM(2000)\n",
        "o3 = ATM(300)"
      ],
      "execution_count": 33,
      "outputs": [
        {
          "output_type": "stream",
          "text": [
            "\n",
            "Current Session Count :  1\n",
            "Successful Withdraw\n",
            "\n",
            "Current Session Count :  2\n",
            "Error only single instance is allowed\n",
            "\n",
            "Current Session Count :  3\n",
            "Error only single instance is allowed\n"
          ],
          "name": "stdout"
        }
      ]
    },
    {
      "cell_type": "code",
      "metadata": {
        "colab": {
          "base_uri": "https://localhost:8080/"
        },
        "id": "rpOvaOw2d_p2",
        "outputId": "72604c07-f8cd-4aa8-fff3-d4545483f4d8"
      },
      "source": [
        "import time\n",
        "class APITime:\n",
        "  apiCount = {}\n",
        "  def __init__(self,id):\n",
        "    if id not in APITime.apiCount:\n",
        "      APITime.apiCount[id] = 1\n",
        "    else:\n",
        "      APITime.apiCount[id] += 1\n",
        "  def GetTime(self):\n",
        "    return time.time()\n",
        "  def GetCount(self):\n",
        "    for i in APITime.apiCount:\n",
        "      print(\"\\n\",i,\":\",APITime.apiCount[i])\n",
        "    \n",
        "id1 = \"Amazon\"\n",
        "id2 = \"Flipkart\"\n",
        "id3 = \"Microsoft\"\n",
        "id4 = \"Facebook\"\n",
        "\n",
        "o1 = APITime(id1);\n",
        "o1.GetTime()\n",
        "o2 = APITime(id1);\n",
        "o3 = APITime(id1);\n",
        "o4 = APITime(id1);\n",
        "o1.GetCount()"
      ],
      "execution_count": 36,
      "outputs": [
        {
          "output_type": "stream",
          "text": [
            "\n",
            " Amazon : 4\n"
          ],
          "name": "stdout"
        }
      ]
    },
    {
      "cell_type": "code",
      "metadata": {
        "id": "Ufl-VQHvhlFM"
      },
      "source": [
        ""
      ],
      "execution_count": null,
      "outputs": []
    }
  ]
}